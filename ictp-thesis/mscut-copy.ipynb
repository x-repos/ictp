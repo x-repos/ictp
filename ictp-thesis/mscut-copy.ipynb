{
 "cells": [
  {
   "attachments": {},
   "cell_type": "markdown",
   "metadata": {},
   "source": [
    "### **IMPORTANT**\n",
    "this script will delete all the data in waveforms-daily"
   ]
  },
  {
   "cell_type": "code",
   "execution_count": 6,
   "metadata": {},
   "outputs": [
    {
     "name": "stdout",
     "output_type": "stream",
     "text": [
      "INFO:\n",
      "-----------------------------------\n",
      "Processing waveform: ANMO.mseed\n",
      "Processing waveform: HRV.mseed\n",
      "Finised!\n",
      "\n",
      "finised in 0.143873 minutes\n"
     ]
    }
   ],
   "source": [
    "import noiseben\n",
    "import time\n",
    "from parameters import *\n",
    "# read the name of data\n",
    "t1 = time.time()\n",
    "finput = 'waveforms'             # continous data\n",
    "foutput = 'waveforms-daily'      # chunk data\n",
    "noiseben.chunkwaveform_sh(finput, foutput, chunklength,\n",
    "                      force_overwrite=True)\n",
    "# excute mseedcut\n",
    "! chmod u+x mscut.sh\n",
    "! ./mscut.sh\n",
    "! rm mscut.sh\n",
    "noiseben.makefolder('waveforms-clean')\n",
    "noiseben.makefolder('waveforms-daily-group')\n",
    "noiseben.makefolder('cc-daily')\n",
    "noiseben.makefolder('cc-stack')\n",
    "noiseben.makefolder('cc-stack-plot')\n",
    "t2 = time.time()\n",
    "print('\\nfinised in %f minutes' %((t2-t1)/60))"
   ]
  },
  {
   "cell_type": "code",
   "execution_count": 7,
   "metadata": {},
   "outputs": [
    {
     "name": "stdout",
     "output_type": "stream",
     "text": [
      "the number of stations: 2\n",
      "\n",
      "1 copying: ANMO\n",
      "2 copying: HRV\n",
      "removing pathin\n",
      "\n",
      "\n",
      "finised in 0.014641 minutes\n"
     ]
    }
   ],
   "source": [
    "'''\n",
    "This code is used for copying data\n",
    "from wavefroms-daily to waveforms-daily-group\n",
    "for easier processing\n",
    "'''\n",
    "import noiseben\n",
    "from glob import glob\n",
    "import os\n",
    "from parameters import *\n",
    "import time\n",
    "import shutil\n",
    "\n",
    "pathin = './waveforms-daily/'\n",
    "pathout = './waveforms-daily-group/'\n",
    "\n",
    "t1 = time.time()\n",
    "station = [os.path.basename(x) for x in glob(pathin+'*')]\n",
    "for i in range(len(station)):\n",
    "    station[i] = station[i][:len(station[i])-6]\n",
    "station.sort()\n",
    "print((\"the number of stations: %d\\n\") %(len(station)))\n",
    "for i, st in enumerate(station):\n",
    "    print((\"%d copying: \"+st) %(i+1))\n",
    "    noiseben.copy_group_daily(pathin=pathin,\n",
    "                        pathout=pathout,\n",
    "                        station=st,\n",
    "                        starttime_str=starttime_str,\n",
    "                        endtime_str=endtime_str,\n",
    "                        chunklength=chunklength)\n",
    "try:\n",
    "    shutil.rmtree(pathin)\n",
    "    print('\\nremoving pathin')\n",
    "except:\n",
    "    pass\n",
    "t2 = time.time()\n",
    "print('\\nfinised in %f minutes' %((t2-t1)/60))"
   ]
  }
 ],
 "metadata": {
  "kernelspec": {
   "display_name": "noisepx",
   "language": "python",
   "name": "python3"
  },
  "language_info": {
   "codemirror_mode": {
    "name": "ipython",
    "version": 3
   },
   "file_extension": ".py",
   "mimetype": "text/x-python",
   "name": "python",
   "nbconvert_exporter": "python",
   "pygments_lexer": "ipython3",
   "version": "3.8.16"
  },
  "orig_nbformat": 4
 },
 "nbformat": 4,
 "nbformat_minor": 2
}
