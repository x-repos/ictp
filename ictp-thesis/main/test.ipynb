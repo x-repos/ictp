{
 "cells": [
  {
   "cell_type": "code",
   "execution_count": 6,
   "metadata": {},
   "outputs": [
    {
     "name": "stderr",
     "output_type": "stream",
     "text": [
      "[2023-06-01 19:42:40,001] - obspy.clients.fdsn.mass_downloader - INFO: Initializing FDSN client(s) for LMU, GFZ.\n",
      "[2023-06-01 19:42:40,016] - obspy.clients.fdsn.mass_downloader - INFO: Successfully initialized 2 client(s): LMU, GFZ.\n",
      "[2023-06-01 19:42:40,020] - obspy.clients.fdsn.mass_downloader - INFO: Total acquired or preexisting stations: 0\n",
      "[2023-06-01 19:42:40,022] - obspy.clients.fdsn.mass_downloader - INFO: Client 'LMU' - Requesting unreliable availability.\n",
      "[2023-06-01 19:42:40,178] - obspy.clients.fdsn.mass_downloader - INFO: Client 'LMU' - Successfully requested availability (0.15 seconds)\n",
      "[2023-06-01 19:42:40,183] - obspy.clients.fdsn.mass_downloader - INFO: Client 'LMU' - Found 1 stations (3 channels).\n",
      "[2023-06-01 19:42:40,187] - obspy.clients.fdsn.mass_downloader - INFO: Client 'LMU' - Will attempt to download data from 1 stations.\n",
      "[2023-06-01 19:42:40,192] - obspy.clients.fdsn.mass_downloader - INFO: Client 'LMU' - No station information to download.\n",
      "[2023-06-01 19:42:40,210] - obspy.clients.fdsn.mass_downloader - INFO: Total acquired or preexisting stations: 0\n",
      "[2023-06-01 19:42:40,215] - obspy.clients.fdsn.mass_downloader - INFO: Client 'GFZ' - Requesting unreliable availability.\n",
      "[2023-06-01 19:42:40,671] - obspy.clients.fdsn.mass_downloader - INFO: Client 'GFZ' - No data available for request.\n",
      "[2023-06-01 19:42:40,672] - obspy.clients.fdsn.mass_downloader - INFO: Client 'GFZ' - No data available.\n",
      "[2023-06-01 19:42:40,675] - obspy.clients.fdsn.mass_downloader - INFO: ============================== Final report\n",
      "[2023-06-01 19:42:40,676] - obspy.clients.fdsn.mass_downloader - INFO: 0 MiniSEED files [0.0 MB] already existed.\n",
      "[2023-06-01 19:42:40,678] - obspy.clients.fdsn.mass_downloader - INFO: 0 StationXML files [0.0 MB] already existed.\n",
      "[2023-06-01 19:42:40,680] - obspy.clients.fdsn.mass_downloader - INFO: Client 'LMU' - Acquired 0 MiniSEED files [0.0 MB].\n",
      "[2023-06-01 19:42:40,682] - obspy.clients.fdsn.mass_downloader - INFO: Client 'LMU' - Acquired 0 StationXML files [0.0 MB].\n",
      "[2023-06-01 19:42:40,684] - obspy.clients.fdsn.mass_downloader - INFO: Client 'GFZ' - Acquired 0 MiniSEED files [0.0 MB].\n",
      "[2023-06-01 19:42:40,687] - obspy.clients.fdsn.mass_downloader - INFO: Client 'GFZ' - Acquired 0 StationXML files [0.0 MB].\n",
      "[2023-06-01 19:42:40,690] - obspy.clients.fdsn.mass_downloader - INFO: Downloaded 0.0 MB in total.\n"
     ]
    },
    {
     "data": {
      "text/plain": [
       "{'LMU': <obspy.clients.fdsn.mass_downloader.download_helpers.ClientDownloadHelper at 0x7feb029f3310>,\n",
       " 'GFZ': <obspy.clients.fdsn.mass_downloader.download_helpers.ClientDownloadHelper at 0x7feb020365b0>}"
      ]
     },
     "execution_count": 6,
     "metadata": {},
     "output_type": "execute_result"
    }
   ],
   "source": [
    "import obspy\n",
    "from obspy.clients.fdsn.mass_downloader import RectangularDomain, \\\n",
    "    Restrictions, MassDownloader\n",
    "\n",
    "# Rectangular domain containing parts of southern Germany.\n",
    "domain = RectangularDomain(minlatitude=30, maxlatitude=50,\n",
    "                           minlongitude=5, maxlongitude=35)\n",
    "\n",
    "restrictions = Restrictions(\n",
    "    # Get data for a whole year.\n",
    "    starttime=obspy.UTCDateTime(\"2012-1-1 00:00:10\"),\n",
    "    endtime=obspy.UTCDateTime(\"2012-1-1 00:00:10\"),\n",
    "    # Chunk it to have one file per day.\n",
    "    chunklength_in_sec=86400,\n",
    "    # Considering the enormous amount of data associated with continuous\n",
    "    # requests, you might want to limit the data based on SEED identifiers.\n",
    "    # If the location code is specified, the location priority list is not\n",
    "    # used; the same is true for the channel argument and priority list.\n",
    "    network=\"BW\", station=\"A*\", location=\"\", channel=\"EH*\",\n",
    "    # The typical use case for such a data set are noise correlations where\n",
    "    # gaps are dealt with at a later stage.\n",
    "    reject_channels_with_gaps=False,\n",
    "    # Same is true with the minimum length. All data might be useful.\n",
    "    minimum_length=0.0,\n",
    "    # Guard against the same station having different names.\n",
    "    minimum_interstation_distance_in_m=100.0)\n",
    "\n",
    "# Restrict the number of providers if you know which serve the desired\n",
    "# data. If in doubt just don't specify - then all providers will be\n",
    "# queried.\n",
    "mdl = MassDownloader(providers=[\"LMU\", \"GFZ\"])\n",
    "mdl.download(domain, restrictions, mseed_storage=\"waveforms\",\n",
    "             stationxml_storage=\"stations\")"
   ]
  }
 ],
 "metadata": {
  "kernelspec": {
   "display_name": "obspy",
   "language": "python",
   "name": "python3"
  },
  "language_info": {
   "codemirror_mode": {
    "name": "ipython",
    "version": 3
   },
   "file_extension": ".py",
   "mimetype": "text/x-python",
   "name": "python",
   "nbconvert_exporter": "python",
   "pygments_lexer": "ipython3",
   "version": "3.9.16"
  },
  "orig_nbformat": 4
 },
 "nbformat": 4,
 "nbformat_minor": 2
}
