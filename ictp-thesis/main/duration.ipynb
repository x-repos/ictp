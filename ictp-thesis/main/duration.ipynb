{
 "cells": [
  {
   "cell_type": "code",
   "execution_count": 1,
   "metadata": {},
   "outputs": [
    {
     "name": "stdout",
     "output_type": "stream",
     "text": [
      "DPH 2009-01-01T00:00:00.000000Z 2017-12-13T23:59:59.000000Z\n",
      "DRS 2009-01-01T00:00:00.000000Z 2017-12-13T23:59:59.000000Z\n",
      "FITZ 2005-10-24T00:00:00.000000Z 2016-12-07T23:59:59.000000Z\n",
      "KDU 2012-05-23T00:00:00.000000Z 2019-09-22T23:59:59.000000Z\n",
      "KNRA 2008-08-21T00:00:00.000000Z 2018-05-09T23:59:59.000000Z\n",
      "MTN 2006-08-11T00:00:00.000000Z None\n",
      "GENI 2009-11-26T00:00:00.000000Z None\n",
      "LUWI 2008-03-10T00:00:00.000000Z None\n",
      "MMRI 2006-11-09T00:00:00.000000Z None\n",
      "SANI 2009-12-03T00:00:00.000000Z None\n",
      "SAUI 2009-08-25T00:00:00.000000Z None\n",
      "TOLI2 2012-07-13T00:00:00.000000Z None\n",
      "KAPI 2011-11-19T00:00:00.000000Z 2016-08-09T23:59:59.000000Z\n",
      "AUDHS 2013-08-26T00:00:00.000000Z None\n",
      "AUKAT 2013-08-29T00:00:00.000000Z None\n",
      "AUNHS 2013-08-28T00:00:00.000000Z None\n",
      "TL01 2014-03-20T00:00:00.000000Z 2015-03-24T01:59:59.000000Z\n",
      "TL02 2014-03-19T00:00:00.000000Z 2018-12-31T23:59:59.999900Z\n",
      "TL03 2014-03-15T00:00:00.000000Z 2018-12-31T23:59:59.999900Z\n",
      "TL04 2014-03-25T00:00:00.000000Z 2018-12-31T23:59:59.999900Z\n",
      "TL05 2014-03-24T00:00:00.000000Z 2018-12-31T23:59:59.999900Z\n",
      "TL06 2014-03-17T00:00:00.000000Z 2018-06-07T23:59:59.000000Z\n",
      "TL07 2014-03-18T00:00:00.000000Z 2017-12-31T23:59:59.000000Z\n",
      "TL08 2014-03-17T00:00:00.000000Z 2018-03-14T23:59:59.999900Z\n"
     ]
    },
    {
     "name": "stderr",
     "output_type": "stream",
     "text": [
      "/home/x/miniconda3/envs/obspy/lib/python3.9/site-packages/obspy/io/stationxml/core.py:96: UserWarning: The StationXML file has version 1.2, ObsPy can read versions (1.0, 1.1). Proceed with caution.\n",
      "  warnings.warn(\"The StationXML file has version %s, ObsPy can \"\n",
      "/home/x/miniconda3/envs/obspy/lib/python3.9/site-packages/obspy/io/stationxml/core.py:96: UserWarning: The StationXML file has version 1.2, ObsPy can read versions (1.0, 1.1). Proceed with caution.\n",
      "  warnings.warn(\"The StationXML file has version %s, ObsPy can \"\n",
      "/home/x/miniconda3/envs/obspy/lib/python3.9/site-packages/obspy/io/stationxml/core.py:96: UserWarning: The StationXML file has version 1.2, ObsPy can read versions (1.0, 1.1). Proceed with caution.\n",
      "  warnings.warn(\"The StationXML file has version %s, ObsPy can \"\n",
      "/home/x/miniconda3/envs/obspy/lib/python3.9/site-packages/obspy/io/stationxml/core.py:96: UserWarning: The StationXML file has version 1.2, ObsPy can read versions (1.0, 1.1). Proceed with caution.\n",
      "  warnings.warn(\"The StationXML file has version %s, ObsPy can \"\n",
      "/home/x/miniconda3/envs/obspy/lib/python3.9/site-packages/obspy/io/stationxml/core.py:96: UserWarning: The StationXML file has version 1.2, ObsPy can read versions (1.0, 1.1). Proceed with caution.\n",
      "  warnings.warn(\"The StationXML file has version %s, ObsPy can \"\n",
      "/home/x/miniconda3/envs/obspy/lib/python3.9/site-packages/obspy/io/stationxml/core.py:96: UserWarning: The StationXML file has version 1.2, ObsPy can read versions (1.0, 1.1). Proceed with caution.\n",
      "  warnings.warn(\"The StationXML file has version %s, ObsPy can \"\n"
     ]
    }
   ],
   "source": [
    "from obspy import read, read_inventory\n",
    "inv = read_inventory(\"stations/*\");\n",
    "\n",
    "for i in range(len(inv)):\n",
    "    print(inv[i][0].code, inv[i][0][0].start_date, inv[i][0][0].end_date)"
   ]
  }
 ],
 "metadata": {
  "kernelspec": {
   "display_name": "obspy",
   "language": "python",
   "name": "python3"
  },
  "language_info": {
   "codemirror_mode": {
    "name": "ipython",
    "version": 3
   },
   "file_extension": ".py",
   "mimetype": "text/x-python",
   "name": "python",
   "nbconvert_exporter": "python",
   "pygments_lexer": "ipython3",
   "version": "3.9.16"
  },
  "orig_nbformat": 4
 },
 "nbformat": 4,
 "nbformat_minor": 2
}
