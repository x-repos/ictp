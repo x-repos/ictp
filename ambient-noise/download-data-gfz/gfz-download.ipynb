{
 "cells": [
  {
   "cell_type": "code",
   "execution_count": 1,
   "metadata": {},
   "outputs": [],
   "source": [
    "import xlib\n",
    "\n",
    "xlib.gfzdownload_sh(fintput= 'gmap-stations-gfz.txt',\n",
    "                    foutputwf= 'gfz-waveforms',\n",
    "                    foutputsta= 'gfz-stations',\n",
    "                    starttime='2014-12-01T00:00:00',\n",
    "                    endtime='2016-12-31T00:00:00',\n",
    "                    channel= 'BHZ')"
   ]
  }
 ],
 "metadata": {
  "kernelspec": {
   "display_name": "obspy",
   "language": "python",
   "name": "python3"
  },
  "language_info": {
   "codemirror_mode": {
    "name": "ipython",
    "version": 3
   },
   "file_extension": ".py",
   "mimetype": "text/x-python",
   "name": "python",
   "nbconvert_exporter": "python",
   "pygments_lexer": "ipython3",
   "version": "3.11.3"
  },
  "orig_nbformat": 4
 },
 "nbformat": 4,
 "nbformat_minor": 2
}
